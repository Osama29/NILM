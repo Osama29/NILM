{
 "cells": [
  {
   "cell_type": "code",
   "execution_count": 23,
   "metadata": {},
   "outputs": [],
   "source": [
    "import os\n",
    "import pandas as pd\n",
    "import time\n",
    "import numpy as np"
   ]
  },
  {
   "cell_type": "code",
   "execution_count": 24,
   "metadata": {},
   "outputs": [],
   "source": [
    "filename = \"fridge.csv\""
   ]
  },
  {
   "cell_type": "code",
   "execution_count": 25,
   "metadata": {},
   "outputs": [],
   "source": [
    "def find_test_filename(test_dir, appliance, test_type) -> str:\n",
    "    # Find test file name given a dataset name\n",
    "    for filename in os.listdir(os.path.join(test_dir, appliance)):\n",
    "        if test_type == 'train' and 'TRAIN' in filename.upper():\n",
    "            test_filename = filename\n",
    "            break\n",
    "        elif test_type == 'uk' and 'UK' in filename.upper():\n",
    "            test_filename = filename\n",
    "            break\n",
    "        elif test_type == 'redd' and 'REDD' in filename.upper():\n",
    "            test_filename = filename\n",
    "            break\n",
    "        elif test_type == 'test' and 'TEST' in filename.upper() and 'TRAIN' not in filename.upper() and 'UK' not in filename.upper():\n",
    "            test_filename = filename\n",
    "            break\n",
    "        elif test_type == 'val' and 'VALIDATION' in filename.upper():\n",
    "            test_filename = filename\n",
    "            break\n",
    "    return test_filename"
   ]
  },
  {
   "cell_type": "code",
   "execution_count": 27,
   "metadata": {},
   "outputs": [
    {
     "name": "stdout",
     "output_type": "stream",
     "text": [
      "[0.06 0.06 0.06 ... 0.57 0.56 0.56]\n",
      "[0.06 0.06 0.06 ... 0.57 0.56 0.56]\n",
      "[ 301.  301.  301. ... 3943. 3943. 3943.]\n"
     ]
    },
    {
     "name": "stderr",
     "output_type": "stream",
     "text": [
      "C:\\Users\\osama\\AppData\\Local\\Temp\\ipykernel_24156\\4181002873.py:3: DtypeWarning: Columns (4) have mixed types. Specify dtype option on import or set low_memory=False.\n",
      "  df = pd.read_csv(file_name, nrows=crop)\n"
     ]
    },
    {
     "data": {
      "text/plain": [
       "(array([0.06, 0.06, 0.06, ..., 0.57, 0.56, 0.56], dtype=float32),\n",
       " array([0.06, 0.06, 0.06, ..., 0.57, 0.56, 0.56], dtype=float32),\n",
       " array([ 301.,  301.,  301., ..., 3943., 3943., 3943.], dtype=float32))"
      ]
     },
     "execution_count": 27,
     "metadata": {},
     "output_type": "execute_result"
    }
   ],
   "source": [
    "def load_dataset(file_name, crop=None):\n",
    "    # Load CSV file and return mains power, appliance power and status\n",
    "    df = pd.read_csv(file_name, nrows=crop)\n",
    "    mains_power = np.array(df.iloc[:, 3], dtype=np.float32)\n",
    "    appliance_power = np.array(df.iloc[:, 3], dtype=np.float32)\n",
    "    activations = np.array(df.iloc[:, 5], dtype=np.float32)\n",
    "\n",
    "    print(mains_power)\n",
    "    print(appliance_power)\n",
    "    print(activations)\n",
    "    return mains_power, appliance_power, activations\n",
    "\n",
    "load_dataset(filename)"
   ]
  }
 ],
 "metadata": {
  "kernelspec": {
   "display_name": "Python 3",
   "language": "python",
   "name": "python3"
  },
  "language_info": {
   "codemirror_mode": {
    "name": "ipython",
    "version": 3
   },
   "file_extension": ".py",
   "mimetype": "text/x-python",
   "name": "python",
   "nbconvert_exporter": "python",
   "pygments_lexer": "ipython3",
   "version": "3.10.6"
  },
  "orig_nbformat": 4
 },
 "nbformat": 4,
 "nbformat_minor": 2
}
