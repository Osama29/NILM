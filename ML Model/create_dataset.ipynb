{
 "cells": [
  {
   "cell_type": "code",
   "execution_count": 3,
   "metadata": {},
   "outputs": [],
   "source": [
    "import os\n",
    "import argparse\n",
    "import pandas as pd\n",
    "import matplotlib.pyplot as plt"
   ]
  },
  {
   "cell_type": "code",
   "execution_count": 4,
   "metadata": {},
   "outputs": [],
   "source": [
    "DATA_DIRECTORY = 'C:/Users/osama/iCloudDrive/Projects/NILM/L Model'\n",
    "FILE_NAME = 'fridge.csv'\n",
    "SAVE_PATH = 'C:/Users/osama/iCloudDrive/Projects/NILM/ML Model/house.csv'"
   ]
  },
  {
   "cell_type": "code",
   "execution_count": 5,
   "metadata": {},
   "outputs": [],
   "source": [
    "def get_arguments():\n",
    "    parser = argparse.ArgumentParser(description='Create aggregate dataset from house data')\n",
    "    parser.add_argument('--data_dir', type=str, default=DATA_DIRECTORY, help='The directory containing my house data')\n",
    "    parser.add_argument('--filename', type=str, default=FILE_NAME, help='The file name containing the csv data')\n",
    "    parser.add_argument('--save_path', type=str, default=SAVE_PATH, help='The directory to store the dataset.')\n",
    "    return parser.parse_args()"
   ]
  },
  {
   "cell_type": "markdown",
   "metadata": {},
   "source": [
    "df = pd.read_csv(FILE_NAME)\n",
    "df.head()"
   ]
  },
  {
   "cell_type": "code",
   "execution_count": 6,
   "metadata": {},
   "outputs": [],
   "source": [
    "def get_real_power(file_name) -> pd.DataFrame:\n",
    "    # Load input dataset and return total power with datatimes.\n",
    "    df = pd.read_csv(file_name,\n",
    "                     usecols=['date', 'time', 'power'],\n",
    "                     na_filter=False, \n",
    "                     parse_dates=['date'],\n",
    "                     infer_datetime_format=False)\n",
    "    # Get datetimes\n",
    "    df_dt = df['date']\n",
    "    # Get power\n",
    "    df_rp = df['power']\n",
    "    \n",
    "    return pd.concat([df_dt, df_rp], axis=1, keys=['date_time','real_power'])"
   ]
  },
  {
   "cell_type": "code",
   "execution_count": 7,
   "metadata": {},
   "outputs": [
    {
     "name": "stderr",
     "output_type": "stream",
     "text": [
      "usage: ipykernel_launcher.py [-h] [--data_dir DATA_DIR] [--filename FILENAME]\n",
      "                             [--save_path SAVE_PATH]\n",
      "ipykernel_launcher.py: error: unrecognized arguments: --ip=127.0.0.1 --stdin=9003 --control=9001 --hb=9000 --Session.signature_scheme=\"hmac-sha256\" --Session.key=b\"f31d1e0e-9ddb-45b9-884a-0a4680d2ec0a\" --shell=9002 --transport=\"tcp\" --iopub=9004\n"
     ]
    },
    {
     "ename": "SystemExit",
     "evalue": "2",
     "output_type": "error",
     "traceback": [
      "An exception has occurred, use %tb to see the full traceback.\n",
      "\u001b[1;31mSystemExit\u001b[0m\u001b[1;31m:\u001b[0m 2\n"
     ]
    },
    {
     "name": "stderr",
     "output_type": "stream",
     "text": [
      "c:\\Users\\osama\\AppData\\Local\\Programs\\Python\\Python310\\lib\\site-packages\\IPython\\core\\interactiveshell.py:3406: UserWarning: To exit: use 'exit', 'quit', or Ctrl-D.\n",
      "  warn(\"To exit: use 'exit', 'quit', or Ctrl-D.\", stacklevel=1)\n"
     ]
    }
   ],
   "source": [
    "def main():\n",
    "    args = get_arguments()\n",
    "\n",
    "    path = os.path.join(args.data_dir, args.file_name)\n",
    "\n",
    "    print(f'Input file path is {path}')\n",
    "\n",
    "    save_path = args.save_path\n",
    "\n",
    "    print('Creating dataset.')\n",
    "\n",
    "    #GEt Power function\n",
    "    df = get_real_power(path)\n",
    "\n",
    "    print(f'\\nRaw dataset statistics: \\n{df[\"real_power\"].describe()}')\n",
    "\n",
    "    # Show dataset histograms.\n",
    "    df['real_power'].hist()\n",
    "    plt.title(f'Histogram for {args.file_name} aggregate')\n",
    "    plt.show()\n",
    "\n",
    "    # Save\n",
    "    df.to_csv(save_path, header=True, index=False)\n",
    "\n",
    "    print(f'Created dataset and saved to {save_path}')\n",
    "    print(f'Size of dataset is {df.shape[0]} rows.')\n",
    "\n",
    "if __name__ == '__main__':\n",
    "    main()"
   ]
  }
 ],
 "metadata": {
  "kernelspec": {
   "display_name": "Python 3",
   "language": "python",
   "name": "python3"
  },
  "language_info": {
   "codemirror_mode": {
    "name": "ipython",
    "version": 3
   },
   "file_extension": ".py",
   "mimetype": "text/x-python",
   "name": "python",
   "nbconvert_exporter": "python",
   "pygments_lexer": "ipython3",
   "version": "3.10.6"
  },
  "orig_nbformat": 4
 },
 "nbformat": 4,
 "nbformat_minor": 2
}
